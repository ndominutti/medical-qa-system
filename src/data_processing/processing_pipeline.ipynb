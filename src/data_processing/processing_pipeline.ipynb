{
 "cells": [
  {
   "cell_type": "code",
   "execution_count": 1,
   "id": "b2599b73",
   "metadata": {},
   "outputs": [
    {
     "name": "stdout",
     "output_type": "stream",
     "text": [
      "\u001b[33mWARNING: Ignoring invalid distribution -andas (/Users/nicolas.dominutti/Desktop/ml/medical-qa-system/.venv/lib/python3.10/site-packages)\u001b[0m\n",
      "\u001b[33mWARNING: Ignoring invalid distribution -andas (/Users/nicolas.dominutti/Desktop/ml/medical-qa-system/.venv/lib/python3.10/site-packages)\u001b[0m\n",
      "\u001b[33mWARNING: Ignoring invalid distribution -andas (/Users/nicolas.dominutti/Desktop/ml/medical-qa-system/.venv/lib/python3.10/site-packages)\u001b[0m\n",
      "\u001b[33mWARNING: Ignoring invalid distribution -andas (/Users/nicolas.dominutti/Desktop/ml/medical-qa-system/.venv/lib/python3.10/site-packages)\u001b[0m\n",
      "\u001b[33mWARNING: Ignoring invalid distribution -andas (/Users/nicolas.dominutti/Desktop/ml/medical-qa-system/.venv/lib/python3.10/site-packages)\u001b[0m\n",
      "\u001b[33mWARNING: Ignoring invalid distribution -andas (/Users/nicolas.dominutti/Desktop/ml/medical-qa-system/.venv/lib/python3.10/site-packages)\u001b[0m\n",
      "\u001b[33mWARNING: You are using pip version 21.2.3; however, version 25.1.1 is available.\n",
      "You should consider upgrading via the '/Users/nicolas.dominutti/Desktop/ml/medical-qa-system/.venv/bin/python3.10 -m pip install --upgrade pip' command.\u001b[0m\n"
     ]
    }
   ],
   "source": [
    "!pip install -q -r requirements.txt"
   ]
  },
  {
   "cell_type": "code",
   "execution_count": 2,
   "id": "a518b52b",
   "metadata": {},
   "outputs": [],
   "source": [
    "import pandas as pd\n",
    "pd.set_option('display.max_colwidth', None)  \n",
    "RANDOM_SEED = 42\n",
    "CHUNK_MAX_LENGTH = 512\n",
    "TEST_DATA_FRAC = .2"
   ]
  },
  {
   "cell_type": "markdown",
   "id": "bcc33055",
   "metadata": {},
   "source": [
    "## Read data"
   ]
  },
  {
   "cell_type": "code",
   "execution_count": 3,
   "id": "45e4efdf",
   "metadata": {},
   "outputs": [],
   "source": [
    "df = pd.read_csv('data/intern_screening_dataset.csv')"
   ]
  },
  {
   "cell_type": "code",
   "execution_count": 4,
   "id": "929070a3",
   "metadata": {},
   "outputs": [],
   "source": [
    "# we have null answers (5)\n",
    "df = df[~df.answer.isnull()]"
   ]
  },
  {
   "cell_type": "markdown",
   "id": "3f5eb687",
   "metadata": {},
   "source": [
    "## Text cleansing"
   ]
  },
  {
   "cell_type": "code",
   "execution_count": 5,
   "id": "6d08b46a",
   "metadata": {},
   "outputs": [],
   "source": [
    "# repetition of \"(are)\", like in What is (are) Hyperthyroidism ?\n",
    "df.loc[:, 'question'] = df['question'].apply(lambda q: q.replace(\"(are)\", \"\").replace('? ?','?').strip())"
   ]
  },
  {
   "cell_type": "code",
   "execution_count": 6,
   "id": "530810a6",
   "metadata": {},
   "outputs": [],
   "source": [
    "import re\n",
    "def remove_pii(text: str) -> str:\n",
    "    text = re.sub(r'\\b\\S+@\\S+\\.\\S+\\b', '', text)\n",
    "    text = re.sub(r'\\(?\\d{3}\\)?[-.\\s]?\\d{3}[-.\\s]?\\d{4}', '', text)\n",
    "    text = re.sub(r'\\b\\d{3}-\\d{2}-\\d{4}\\b', '', text)\n",
    "    text = re.sub(r'\\d{1,5}\\s[\\w\\s]{2,30}(Street|St|Avenue|Ave|Road|Rd|Boulevard|Blvd|Lane|Ln)\\b', '', text, flags=re.IGNORECASE)\n",
    "    return text\n",
    "df.loc[:, 'answer'] = df['answer'].apply(lambda ans: remove_pii(ans.strip()))"
   ]
  },
  {
   "cell_type": "markdown",
   "id": "a78b96f6",
   "metadata": {},
   "source": [
    "## Chunking"
   ]
  },
  {
   "cell_type": "code",
   "execution_count": 7,
   "id": "e1ab0d7c",
   "metadata": {},
   "outputs": [],
   "source": [
    "from llama_index.core.node_parser import SentenceSplitter "
   ]
  },
  {
   "cell_type": "code",
   "execution_count": 8,
   "id": "36bcc848",
   "metadata": {},
   "outputs": [
    {
     "name": "stderr",
     "output_type": "stream",
     "text": [
      "/Users/nicolas.dominutti/Desktop/ml/medical-qa-system/.venv/lib/python3.10/site-packages/tqdm/auto.py:21: TqdmWarning: IProgress not found. Please update jupyter and ipywidgets. See https://ipywidgets.readthedocs.io/en/stable/user_install.html\n",
      "  from .autonotebook import tqdm as notebook_tqdm\n"
     ]
    }
   ],
   "source": [
    "from transformers import AutoTokenizer\n",
    "tokenizer = AutoTokenizer.from_pretrained(\"BAAI/bge-small-en-v1.5\")"
   ]
  },
  {
   "cell_type": "code",
   "execution_count": 9,
   "id": "3f73b556",
   "metadata": {},
   "outputs": [],
   "source": [
    "splitter = SentenceSplitter(\n",
    "    chunk_size=CHUNK_MAX_LENGTH,\n",
    "    tokenizer=tokenizer.tokenize,\n",
    "    chunk_overlap=200,\n",
    "    separator=\".\",\n",
    "    paragraph_separator=\"\\n\"\n",
    ")"
   ]
  },
  {
   "cell_type": "code",
   "execution_count": 10,
   "id": "48979a79",
   "metadata": {},
   "outputs": [
    {
     "name": "stderr",
     "output_type": "stream",
     "text": [
      "Token indices sequence length is longer than the specified maximum sequence length for this model (1191 > 512). Running this sequence through the model will result in indexing errors\n"
     ]
    }
   ],
   "source": [
    "df.loc[:, 'answer'] = df['answer'].apply(lambda ans: splitter.split_text(ans))\n",
    "df = df.explode('answer').reset_index(drop=True)"
   ]
  },
  {
   "cell_type": "code",
   "execution_count": 11,
   "id": "02ebc9c7",
   "metadata": {},
   "outputs": [
    {
     "name": "stdout",
     "output_type": "stream",
     "text": [
      "previous: (20044, 2)\n",
      "after: (19935, 2)\n"
     ]
    }
   ],
   "source": [
    "#remove some duplicates\n",
    "print(f\"previous: {df.shape}\")\n",
    "df = df.drop_duplicates(subset=['question', 'answer'])\n",
    "print(f\"after: {df.shape}\")"
   ]
  },
  {
   "cell_type": "code",
   "execution_count": 12,
   "id": "2d81f623",
   "metadata": {},
   "outputs": [],
   "source": [
    "from sentence_transformers import SentenceTransformer\n",
    "import torch\n",
    "NEGATIVES_N = 15\n",
    "DEVICE = 'cuda' if torch.cuda.is_available() else 'cpu'\n",
    "model = SentenceTransformer('BAAI/bge-small-en-v1.5', device=DEVICE)"
   ]
  },
  {
   "cell_type": "code",
   "execution_count": 13,
   "id": "25e34a68",
   "metadata": {},
   "outputs": [],
   "source": [
    "from utils import TripletsMiner\n",
    "tm = TripletsMiner(model, RANDOM_SEED)\n",
    "negatives = tm.get_negatives(df, 'soft', NEGATIVES_N)"
   ]
  },
  {
   "cell_type": "code",
   "execution_count": 14,
   "id": "fcc73b1a",
   "metadata": {},
   "outputs": [],
   "source": [
    "unique_questions = pd.DataFrame(df.question.unique(), columns=['question']).reset_index(names='question_id')\n",
    "unique_answers = pd.DataFrame(df.answer.unique(), columns=['answer']).reset_index(names='chunk_id')\n",
    "\n",
    "df = df.merge(\n",
    "    unique_answers,\n",
    "    how='left',\n",
    "    on='answer',\n",
    ")\n",
    "\n",
    "df = df.merge(\n",
    "    unique_questions,\n",
    "    how='left',\n",
    "    on='question',\n",
    ")"
   ]
  },
  {
   "cell_type": "code",
   "execution_count": 15,
   "id": "965b4c4e",
   "metadata": {},
   "outputs": [],
   "source": [
    "gb_gen = df.groupby(['question_id','question'])\n",
    "df = gb_gen['answer'].apply(list).reset_index()\n",
    "chunks = gb_gen['chunk_id'].apply(list).reset_index()\n",
    "df['neg'] = negatives\n",
    "df = df.merge(chunks[['question_id','chunk_id']], on='question_id', how='left')"
   ]
  },
  {
   "cell_type": "code",
   "execution_count": 16,
   "id": "ab4bb3c7",
   "metadata": {},
   "outputs": [],
   "source": [
    "df = df.rename(columns={'answer': 'pos'})\n",
    "df = df.rename(columns={'question': 'query'})"
   ]
  },
  {
   "cell_type": "code",
   "execution_count": 17,
   "id": "491acf70",
   "metadata": {},
   "outputs": [],
   "source": [
    "from datasets import Dataset\n",
    "dataset = Dataset.from_pandas(df, preserve_index=False)\n",
    "splits = dataset.train_test_split(test_size=TEST_DATA_FRAC, seed=RANDOM_SEED)\n",
    "train_df = splits['train']\n",
    "val_df = splits['test']"
   ]
  },
  {
   "cell_type": "code",
   "execution_count": 18,
   "id": "658f13bd",
   "metadata": {},
   "outputs": [
    {
     "name": "stderr",
     "output_type": "stream",
     "text": [
      "Creating json from Arrow format:   0%|          | 0/12 [00:00<?, ?ba/s]huggingface/tokenizers: The current process just got forked, after parallelism has already been used. Disabling parallelism to avoid deadlocks...\n",
      "To disable this warning, you can either:\n",
      "\t- Avoid using `tokenizers` before the fork if possible\n",
      "\t- Explicitly set the environment variable TOKENIZERS_PARALLELISM=(true | false)\n",
      "Creating json from Arrow format: 100%|██████████| 12/12 [00:01<00:00,  9.43ba/s]\n"
     ]
    },
    {
     "data": {
      "text/plain": [
       "217313593"
      ]
     },
     "execution_count": 18,
     "metadata": {},
     "output_type": "execute_result"
    }
   ],
   "source": [
    "train_df.to_json(\"data/training.json\")"
   ]
  },
  {
   "cell_type": "markdown",
   "id": "531ba808",
   "metadata": {},
   "source": [
    "### Test sets"
   ]
  },
  {
   "cell_type": "code",
   "execution_count": 19,
   "id": "6d6dc4be",
   "metadata": {},
   "outputs": [
    {
     "data": {
      "text/plain": [
       "{'id': 12782,\n",
       " 'text': 'How many people are affected by von Hippel-Lindau syndrome ?'}"
      ]
     },
     "execution_count": 19,
     "metadata": {},
     "output_type": "execute_result"
    }
   ],
   "source": [
    "queries = val_df.select_columns(column_names=[\"question_id\", \"query\"])\n",
    "queries = queries.rename_columns({\"query\": \"text\", \"question_id\": \"id\"})\n",
    "queries[0]"
   ]
  },
  {
   "cell_type": "code",
   "execution_count": 20,
   "id": "43a82ed8",
   "metadata": {},
   "outputs": [],
   "source": [
    "corpus = Dataset.from_pandas(unique_answers, preserve_index=False)\n",
    "corpus = corpus.select_columns(column_names=[\"chunk_id\", \"answer\"])\n",
    "corpus = corpus.rename_columns({\"answer\": \"text\", \"chunk_id\": \"id\"})"
   ]
  },
  {
   "cell_type": "code",
   "execution_count": 21,
   "id": "1df63d03",
   "metadata": {},
   "outputs": [
    {
     "name": "stderr",
     "output_type": "stream",
     "text": [
      "Flattening the indices: 100%|██████████| 2996/2996 [00:00<00:00, 213771.58 examples/s]\n"
     ]
    },
    {
     "data": {
      "text/plain": [
       "{'qid': 12782, 'docid': [15870], 'relevance': 1}"
      ]
     },
     "execution_count": 21,
     "metadata": {},
     "output_type": "execute_result"
    }
   ],
   "source": [
    "qrels = val_df.select_columns([\"question_id\"])\n",
    "qrels = qrels.rename_column(\"question_id\", \"qid\")\n",
    "qrels = qrels.add_column(\"docid\", list(val_df[\"chunk_id\"]))\n",
    "qrels = qrels.add_column(\"relevance\", [1]*len(list(val_df[\"chunk_id\"])))\n",
    "qrels[0]"
   ]
  },
  {
   "cell_type": "code",
   "execution_count": 22,
   "id": "7449cbda",
   "metadata": {},
   "outputs": [
    {
     "name": "stderr",
     "output_type": "stream",
     "text": [
      "Creating json from Arrow format: 100%|██████████| 3/3 [00:00<00:00, 303.03ba/s]\n",
      "Creating json from Arrow format: 100%|██████████| 19/19 [00:00<00:00, 88.22ba/s]\n",
      "Creating json from Arrow format: 100%|██████████| 3/3 [00:00<00:00, 621.22ba/s]\n"
     ]
    },
    {
     "data": {
      "text/plain": [
       "133591"
      ]
     },
     "execution_count": 22,
     "metadata": {},
     "output_type": "execute_result"
    }
   ],
   "source": [
    "queries.to_json(\"data/test_queries.jsonl\")\n",
    "corpus.to_json(\"data/corpus.jsonl\")\n",
    "qrels.to_json(\"data/test_qrels.jsonl\")"
   ]
  },
  {
   "cell_type": "markdown",
   "id": "a5c0c683",
   "metadata": {},
   "source": [
    "### Saving to S3"
   ]
  },
  {
   "cell_type": "code",
   "execution_count": 23,
   "id": "fd537446",
   "metadata": {},
   "outputs": [],
   "source": [
    "import boto3\n",
    "import os\n",
    "from dotenv import load_dotenv\n",
    "\n",
    "load_dotenv(\".env\")\n",
    "AWS_REGION = os.getenv(\"AWS_REGION_NAME\")\n",
    "AWS_KEY = os.getenv(\"AWS_ACCESS_KEY_ID\")\n",
    "AWS_SECRET = os.getenv(\"AWS_SECRET_ACCESS_KEY\")\n",
    "\n",
    "boto3_client = boto3.client(\n",
    "    \"s3\",\n",
    "    aws_access_key_id=AWS_KEY,\n",
    "    aws_secret_access_key=AWS_SECRET,\n",
    "    region_name=AWS_REGION,\n",
    ")"
   ]
  },
  {
   "cell_type": "code",
   "execution_count": 24,
   "id": "4e7170f0",
   "metadata": {},
   "outputs": [],
   "source": [
    "# for file in [\"training.json\", \"test_queries.jsonl\", \"corpus.jsonl\", \"test_qrels.jsonl\"]:\n",
    "#     boto3_client.upload_file(\n",
    "#         f\"data/{file}\",\n",
    "#         \"medical-qa-data\",\n",
    "#         file,\n",
    "#     )"
   ]
  }
 ],
 "metadata": {
  "kernelspec": {
   "display_name": ".venv",
   "language": "python",
   "name": "python3"
  },
  "language_info": {
   "codemirror_mode": {
    "name": "ipython",
    "version": 3
   },
   "file_extension": ".py",
   "mimetype": "text/x-python",
   "name": "python",
   "nbconvert_exporter": "python",
   "pygments_lexer": "ipython3",
   "version": "3.10.0"
  }
 },
 "nbformat": 4,
 "nbformat_minor": 5
}
