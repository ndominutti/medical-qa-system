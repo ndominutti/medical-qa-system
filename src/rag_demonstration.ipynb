{
 "cells": [
  {
   "cell_type": "code",
   "execution_count": 1,
   "id": "56ee74c1",
   "metadata": {},
   "outputs": [
    {
     "name": "stdout",
     "output_type": "stream",
     "text": [
      "\u001b[33mWARNING: Ignoring invalid distribution -andas (/Users/nicolas.dominutti/Desktop/ml/medical-qa-system/.venv/lib/python3.10/site-packages)\u001b[0m\n",
      "\u001b[33mWARNING: Ignoring invalid distribution -andas (/Users/nicolas.dominutti/Desktop/ml/medical-qa-system/.venv/lib/python3.10/site-packages)\u001b[0m\n",
      "\u001b[33mWARNING: Ignoring invalid distribution -andas (/Users/nicolas.dominutti/Desktop/ml/medical-qa-system/.venv/lib/python3.10/site-packages)\u001b[0m\n",
      "\u001b[33mWARNING: Ignoring invalid distribution -andas (/Users/nicolas.dominutti/Desktop/ml/medical-qa-system/.venv/lib/python3.10/site-packages)\u001b[0m\n",
      "\u001b[33mWARNING: Ignoring invalid distribution -andas (/Users/nicolas.dominutti/Desktop/ml/medical-qa-system/.venv/lib/python3.10/site-packages)\u001b[0m\n",
      "\u001b[33mWARNING: Ignoring invalid distribution -andas (/Users/nicolas.dominutti/Desktop/ml/medical-qa-system/.venv/lib/python3.10/site-packages)\u001b[0m\n",
      "\u001b[33mWARNING: You are using pip version 21.2.3; however, version 25.1.1 is available.\n",
      "You should consider upgrading via the '/Users/nicolas.dominutti/Desktop/ml/medical-qa-system/.venv/bin/python3.10 -m pip install --upgrade pip' command.\u001b[0m\n"
     ]
    }
   ],
   "source": [
    "!pip install --quiet -r rag_system/requirements.txt"
   ]
  },
  {
   "cell_type": "code",
   "execution_count": 2,
   "id": "73046766",
   "metadata": {},
   "outputs": [],
   "source": [
    "from dotenv import load_dotenv\n",
    "load_dotenv(\"rag_system/.env\")\n",
    "MODEL_PATH = 'rag_system/model'"
   ]
  },
  {
   "cell_type": "code",
   "execution_count": 3,
   "id": "b229e28a",
   "metadata": {},
   "outputs": [],
   "source": [
    "from general_utils import load_config\n",
    "CONFIG = load_config()"
   ]
  },
  {
   "cell_type": "code",
   "execution_count": 4,
   "id": "c346cb35",
   "metadata": {},
   "outputs": [],
   "source": [
    "from general_utils import S3Manager\n",
    "s3_client = S3Manager.get_client('s3')"
   ]
  },
  {
   "cell_type": "code",
   "execution_count": null,
   "id": "b474edc6",
   "metadata": {},
   "outputs": [],
   "source": [
    "S3Manager.download_folder(s3_client, CONFIG['S3_BUCKET'], 'finetuned_model/', MODEL_PATH)"
   ]
  },
  {
   "cell_type": "markdown",
   "id": "dd21e5d6",
   "metadata": {},
   "source": [
    "---"
   ]
  },
  {
   "cell_type": "code",
   "execution_count": 5,
   "id": "f2d7f907",
   "metadata": {},
   "outputs": [
    {
     "name": "stderr",
     "output_type": "stream",
     "text": [
      "/Users/nicolas.dominutti/Desktop/ml/medical-qa-system/.venv/lib/python3.10/site-packages/tqdm/auto.py:21: TqdmWarning: IProgress not found. Please update jupyter and ipywidgets. See https://ipywidgets.readthedocs.io/en/stable/user_install.html\n",
      "  from .autonotebook import tqdm as notebook_tqdm\n"
     ]
    }
   ],
   "source": [
    "from general_utils.flagembedding import FlagEmbeddingManager\n",
    "flagg_embedding = FlagEmbeddingManager()\n",
    "model = flagg_embedding.get_model(\n",
    "    local_model_path=MODEL_PATH,\n",
    "    query_instruction=CONFIG['QUERY_INSTRUCTION_AT_RETRIEVAL']\n",
    ")"
   ]
  },
  {
   "cell_type": "code",
   "execution_count": 6,
   "id": "eedc8184",
   "metadata": {},
   "outputs": [],
   "source": [
    "from rag_system.utils import BedrockManager\n",
    "bedrock = BedrockManager()"
   ]
  },
  {
   "cell_type": "markdown",
   "id": "c60ee57d",
   "metadata": {},
   "source": [
    "---"
   ]
  },
  {
   "cell_type": "code",
   "execution_count": 9,
   "id": "27f80733",
   "metadata": {},
   "outputs": [],
   "source": [
    "def chat(query):\n",
    "    context = flagg_embedding.search(\n",
    "        endpoint_url=CONFIG['OPENSEARCH_INDEX_URL'],\n",
    "        flag_embedding_model=model, \n",
    "        query=query,\n",
    "        top_k=CONFIG['ITEMS_TO_RETRIEVE']\n",
    "    )\n",
    "    return bedrock.ask(\n",
    "        query,\n",
    "        context,\n",
    "        CONFIG['MODEL'],\n",
    "        CONFIG['SYSTEM_PROMPT'],\n",
    "        CONFIG['TEMPERATURE'],\n",
    "        CONFIG['TOP_P'],\n",
    "        CONFIG['MAX_OUTPUT_TOKENS']\n",
    "    )"
   ]
  },
  {
   "cell_type": "code",
   "execution_count": null,
   "id": "8afd8cc5",
   "metadata": {},
   "outputs": [],
   "source": [
    "res = chat('What is high blood pressure?')\n"
   ]
  },
  {
   "cell_type": "code",
   "execution_count": null,
   "id": "7824bc49",
   "metadata": {},
   "outputs": [
    {
     "name": "stdout",
     "output_type": "stream",
     "text": [
      " High blood pressure, also known as hypertension, is a condition where the force of blood pushing against the walls of the blood vessels is higher than normal. It occurs when your blood pressure rises and stays high over time, making the heart work too hard and potentially harming arteries and organs such as the heart, kidneys, brain, and eyes.\n"
     ]
    }
   ],
   "source": [
    "print(response['generation'])"
   ]
  }
 ],
 "metadata": {
  "kernelspec": {
   "display_name": ".venv",
   "language": "python",
   "name": "python3"
  },
  "language_info": {
   "codemirror_mode": {
    "name": "ipython",
    "version": 3
   },
   "file_extension": ".py",
   "mimetype": "text/x-python",
   "name": "python",
   "nbconvert_exporter": "python",
   "pygments_lexer": "ipython3",
   "version": "3.10.0"
  }
 },
 "nbformat": 4,
 "nbformat_minor": 5
}
