{
 "cells": [
  {
   "cell_type": "markdown",
   "id": "7e87e413",
   "metadata": {},
   "source": [
    "# Overview\n",
    "\n",
    "This notebook will be in charge of demonstrating how the system works. I not intended by any chance that this approach would be used in a productive environment (not even development) as there are other options as dockerizing and hosting the service in a microservice-like architecture (using fastAPI for example) or even recurring to cloud based solutions as AWS Bedrock to create a flow and expose as an endpoint without the overhead of de deployment process.\n",
    "\n",
    "Nevertheles, one could think that the job that this notebook will do is basically what would happen at a user query time. The proposed architecture is only composed of 2 main steps, the retrieval and generation, this is not a productive architecture by any chance as other several components as *intent classifiers*, *routers*, *guardrails* could be applied too (always balancing the cost-latency tradeoff)\n",
    "\n",
    "The reasons on why this approach was selected to address this takehome assesment are already detailed in the README file you can find at the root of this repository."
   ]
  },
  {
   "cell_type": "markdown",
   "id": "7153f0e6",
   "metadata": {},
   "source": [
    "---\n",
    "# Setup\n",
    "\n",
    "Before we start, it's needed to perform some setup for our environment as installing the needed libraries, loading the ENV variables, config files and downloading the data model that was trained in the training pipeline (please refer to /model_training)"
   ]
  },
  {
   "cell_type": "code",
   "execution_count": 1,
   "id": "56ee74c1",
   "metadata": {},
   "outputs": [
    {
     "name": "stdout",
     "output_type": "stream",
     "text": [
      "\u001b[33mWARNING: Ignoring invalid distribution -andas (/Users/nicolas.dominutti/Desktop/ml/medical-qa-system/.venv/lib/python3.10/site-packages)\u001b[0m\n",
      "\u001b[33mWARNING: Ignoring invalid distribution -andas (/Users/nicolas.dominutti/Desktop/ml/medical-qa-system/.venv/lib/python3.10/site-packages)\u001b[0m\n",
      "\u001b[33mWARNING: Ignoring invalid distribution -andas (/Users/nicolas.dominutti/Desktop/ml/medical-qa-system/.venv/lib/python3.10/site-packages)\u001b[0m\n",
      "\u001b[33mWARNING: Ignoring invalid distribution -andas (/Users/nicolas.dominutti/Desktop/ml/medical-qa-system/.venv/lib/python3.10/site-packages)\u001b[0m\n",
      "\u001b[33mWARNING: Ignoring invalid distribution -andas (/Users/nicolas.dominutti/Desktop/ml/medical-qa-system/.venv/lib/python3.10/site-packages)\u001b[0m\n",
      "\u001b[33mWARNING: Ignoring invalid distribution -andas (/Users/nicolas.dominutti/Desktop/ml/medical-qa-system/.venv/lib/python3.10/site-packages)\u001b[0m\n",
      "\u001b[33mWARNING: You are using pip version 21.2.3; however, version 25.1.1 is available.\n",
      "You should consider upgrading via the '/Users/nicolas.dominutti/Desktop/ml/medical-qa-system/.venv/bin/python -m pip install --upgrade pip' command.\u001b[0m\n",
      "Note: you may need to restart the kernel to use updated packages.\n"
     ]
    }
   ],
   "source": [
    "%pip install --quiet -r rag_system/requirements.txt"
   ]
  },
  {
   "cell_type": "code",
   "execution_count": 2,
   "id": "73046766",
   "metadata": {},
   "outputs": [],
   "source": [
    "from dotenv import load_dotenv\n",
    "load_dotenv(\"rag_system/.env\")\n",
    "MODEL_PATH = 'rag_system/model'"
   ]
  },
  {
   "cell_type": "code",
   "execution_count": 3,
   "id": "b229e28a",
   "metadata": {},
   "outputs": [],
   "source": [
    "from general_utils import load_config\n",
    "CONFIG = load_config()"
   ]
  },
  {
   "cell_type": "code",
   "execution_count": 4,
   "id": "c346cb35",
   "metadata": {},
   "outputs": [],
   "source": [
    "from general_utils import S3Manager\n",
    "s3_client = S3Manager.get_client()"
   ]
  },
  {
   "cell_type": "markdown",
   "id": "22577319",
   "metadata": {},
   "source": [
    "Specifically in the following cell I will download the fine-tuned FlagEmbedding bge-base-en-v1.5 model, then I'll load it utilizing the FlagEmbedding library. It's important to recall that the selected model is *instruction tuned*, so I will pass it the very same instruction used at fine-tuning time"
   ]
  },
  {
   "cell_type": "code",
   "execution_count": 5,
   "id": "b474edc6",
   "metadata": {},
   "outputs": [],
   "source": [
    "import os\n",
    "if not os.listdir(MODEL_PATH):\n",
    "    #run only if the model was not already downloaded\n",
    "    S3Manager.download_folder(s3_client, CONFIG['S3_BUCKET'], 'finetuned_model/', MODEL_PATH)"
   ]
  },
  {
   "cell_type": "code",
   "execution_count": 6,
   "id": "9f90aae2",
   "metadata": {},
   "outputs": [
    {
     "name": "stderr",
     "output_type": "stream",
     "text": [
      "/Users/nicolas.dominutti/Desktop/ml/medical-qa-system/.venv/lib/python3.10/site-packages/tqdm/auto.py:21: TqdmWarning: IProgress not found. Please update jupyter and ipywidgets. See https://ipywidgets.readthedocs.io/en/stable/user_install.html\n",
      "  from .autonotebook import tqdm as notebook_tqdm\n"
     ]
    }
   ],
   "source": [
    "from general_utils.flagembedding import FlagEmbeddingManager\n",
    "embedding_service = FlagEmbeddingManager()\n",
    "model = embedding_service.get_model(\n",
    "    local_model_path=MODEL_PATH,\n",
    "    query_instruction=CONFIG['QUERY_INSTRUCTION_AT_RETRIEVAL']\n",
    ")"
   ]
  },
  {
   "cell_type": "code",
   "execution_count": 7,
   "id": "cf28d7a4",
   "metadata": {},
   "outputs": [
    {
     "name": "stdout",
     "output_type": "stream",
     "text": [
      "Utilized instruction: 'Represent this sentence for searching relevant passages:'\n"
     ]
    }
   ],
   "source": [
    "print(f\"Utilized instruction: '{CONFIG['QUERY_INSTRUCTION_AT_RETRIEVAL']}'\")"
   ]
  },
  {
   "cell_type": "markdown",
   "id": "dd21e5d6",
   "metadata": {},
   "source": [
    "---"
   ]
  },
  {
   "cell_type": "markdown",
   "id": "7c355655",
   "metadata": {},
   "source": [
    "# Services access\n",
    "\n",
    "After the setup is done, I'll proceed with initializing the connection to the needed services, as stated in the README file I will use:\n",
    "* AWS OpenSearch: as the vector DB that stores the corpus embeddings produced with my fine-tuned model (please refer to /training) and allows me to perform semantic retrieval on them\n",
    "* AWD Bedrock: as the fully managed solution to call the generator model API\n",
    "\n",
    "The BedrockManager class (can be found in rag_system.utils.bedrock) encapsulates all the needed logic to query Bedrock. While the FlagEmbeddingManager class (can be found in general_utils.flagembedding) encapsulate the logic to connect and search from OpenSearch"
   ]
  },
  {
   "cell_type": "code",
   "execution_count": 8,
   "id": "eedc8184",
   "metadata": {},
   "outputs": [],
   "source": [
    "from rag_system.utils import BedrockManager\n",
    "bedrock = BedrockManager()"
   ]
  },
  {
   "cell_type": "markdown",
   "id": "c60ee57d",
   "metadata": {},
   "source": [
    "---"
   ]
  },
  {
   "cell_type": "markdown",
   "id": "3dea9d1c",
   "metadata": {},
   "source": [
    "# Some examples\n",
    "\n",
    "Here I'll provide some examples of retrieved context and responses from the model. It's worth it to notice that the utilized system prompt was not tuned due to a lack of time, being that a possible improvement spot."
   ]
  },
  {
   "cell_type": "code",
   "execution_count": 9,
   "id": "ba7f1d35",
   "metadata": {},
   "outputs": [
    {
     "name": "stdout",
     "output_type": "stream",
     "text": [
      "Utilized untuned system prompt:  You are a knowledgeable and empathetic medical assistant. Your task is to answer patients' questions strictly based on the context provided below. Do not include any information outside of this context. If the answer is not contained within the context, respond politely that you don’t have enough information to answer. Do not mention the context to the user, he doesn't knows about it.\n",
      "Context {CONTEXT} \n"
     ]
    }
   ],
   "source": [
    "print(f\"Utilized untuned system prompt: {CONFIG['SYSTEM_PROMPT']}\")"
   ]
  },
  {
   "cell_type": "code",
   "execution_count": 11,
   "id": "27f80733",
   "metadata": {},
   "outputs": [],
   "source": [
    "from typing import Dict, Any, Optional\n",
    "from FlagEmbedding.inference.embedder.encoder_only.base import BaseEmbedder\n",
    "\n",
    "def chat(query:str, model: Optional[BaseEmbedder]=None) -> Dict[str,Any]:\n",
    "    \"\"\"\n",
    "    Auxiliar function to concatenate the retrieval and generation steps.\n",
    "\n",
    "    Args:\n",
    "        query(str): user's query\n",
    "    \n",
    "    Returns:\n",
    "        Dict[str,Any]: returned dict from Bedrock InvokeModel action. Contains\n",
    "        the generation answer under the key 'generation'\n",
    "    \"\"\"\n",
    "    if model:\n",
    "        context = embedding_service.search(\n",
    "            endpoint_url=CONFIG['OPENSEARCH_INDEX_URL'],\n",
    "            flag_embedding_model=model, \n",
    "            query=query,\n",
    "            top_k=CONFIG['ITEMS_TO_RETRIEVE']\n",
    "        )\n",
    "        system_prompt = CONFIG['SYSTEM_PROMPT']\n",
    "    else:\n",
    "        context = None\n",
    "        system_prompt = \"\"\"\n",
    "            You are a knowledgeable and empathetic medical assistant. Your task is to answer patients' questions as best as you can. Avoid generating knowledge that is not factual based.\n",
    "            If you are not sure if you can respond to a question, respond politely that you don’t have enough information to answer.\n",
    "        \"\"\"\n",
    "    return bedrock.ask(\n",
    "        query,\n",
    "        CONFIG['MODEL'],\n",
    "        system_prompt,\n",
    "        CONFIG['TEMPERATURE'],\n",
    "        CONFIG['TOP_P'],\n",
    "        CONFIG['MAX_OUTPUT_TOKENS'],\n",
    "        context\n",
    "    ), context"
   ]
  },
  {
   "cell_type": "code",
   "execution_count": null,
   "id": "8afd8cc5",
   "metadata": {},
   "outputs": [
    {
     "name": "stdout",
     "output_type": "stream",
     "text": [
      " High blood pressure, also known as hypertension, is a condition where the force of blood pushing against the walls of the blood vessels is higher than normal. It occurs when your blood pressure rises and stays high over time, making the heart work too hard and potentially harming arteries and organs such as the heart, kidneys, brain, and eyes.\n",
      "Blood pressure is the force of blood pushing against the walls of the blood vessels as the heart pumps blood. If your blood pressure rises and stays high over time, its called high blood pressure. High blood pressure is dangerous because it makes the heart work too hard, and the high force of the blood flow can harm arteries and organs such as the heart, kidneys, brain, and eyes.\n",
      "High blood pressure is a common disease in which blood flows through blood vessels (arteries) at higher than normal pressures. What Is Blood Pressure? Blood pressure is the force of blood pushing against the walls of the blood vessels as the heart pumps blood. If your blood pressure rises and stays high over time, its called high blood pressure. High blood pressure is dangerous because it makes the heart work too hard, and the high force of the blood flow can harm arteries and organs such as the heart, kidneys, brain, and eyes. Types of High Blood Pressure There are two main types of high blood pressure: primary and secondary high blood pressure. - Primary, or essential, high blood pressure is the most common type of high blood pressure. This type of high blood pressure tends to develop over years as a person ages.   - Secondary high blood pressure is caused by another medical condition or use of certain medicines. This type usually resolves after the cause is treated or removed. Primary, or essential, high blood pressure is the most common type of high blood pressure. This type of high blood pressure tends to develop over years as a person ages. Secondary high blood pressure is caused by another medical condition or use of certain medicines. This type usually resolves after the cause is treated or removed. Measuring Blood Pressure Blood pressure is always given as two numbers, the systolic and diastolic pressures. Both are important. - Systolic Pressure  is the pressure of blood against the artery walls when the heart beats.  -  Diastolic Pressure is the pressure of blood against the artery walls when the heart is at rest between beats. Systolic Pressure  is the pressure of blood against the artery walls when the heart beats.  Diastolic Pressure is the pressure of blood against the artery walls when the heart is at rest between beats. Usually these numbers are written one above or before the other -- for example, 120/80 mmHg. The top, or first, number is the systolic and the bottom, or second number, is the diastolic. If your blood pressure is 120/80, you say that it is \"120 over 80.\" Normal Blood Pressure Normal blood pressure for adults is defined as a systolic pressure below 120 mmHg and a diastolic pressure below 80 mmHg. It is normal for blood pressures to change when you sleep, wake up, or are excited or nervous. When you are active, it is normal for your blood pressure to increase.\n",
      "Blood pressure is the force of blood flow inside your blood vessels. Blood pressure is written with two numbers separated by a slash. For example, a blood pressure result of 130/80 is said as 130 over 80. The first number is the pressure in your blood vessels as your heart beats and pushes blood through your blood vessels. The second number is the pressure as your blood vessels relax between heartbeats.\n",
      "                \n",
      "High blood pressure forces your heart to work harder to pump blood. High blood pressure can strain your heart, damage your blood vessels, and increase your risk of heart attack, stroke, eye problems, and kidney problems.\n"
     ]
    }
   ],
   "source": [
    "response, context = chat(\"What is high blood pressure?\", model)\n",
    "print(response['generation'])\n",
    "print('')\n",
    "print(\"\\n\".join([x for x in context]))"
   ]
  },
  {
   "cell_type": "code",
   "execution_count": null,
   "id": "96eb6c22",
   "metadata": {},
   "outputs": [
    {
     "name": "stdout",
     "output_type": "stream",
     "text": [
      " Dry eye occurs when the eye does not produce tears properly, or when the tears are of poor quality and dry up quickly. This can lead to a variety of symptoms, such as discomfort and pain, stinging and burning, redness, a sandy or gritty feeling, blurry vision, and eye fatigue.\n",
      "\n",
      "Dry eye occurs when the eye does not produce tears properly, or when the tears are of poor quality and dry up quickly. The eyes need tears for overall eye health and clear vision. Dry eye can last a short time or it can be an ongoing condition. It can include a variety of symptoms, such as discomfort and pain. Your eyes may sting and burn and you may have redness and a sandy or gritty feeling, as if something is in your eye. You may have blurry vision and you may feel eye fatigue. Having dry eyes can make it harder to do some activities, such as using a computer or reading for a long period of time, and it can make it hard to be in dry places, such as on an airplane. (This short video discusses causes, symptoms, and treatments for dry eye.)\n",
      "Many factors can lead to dry eye, including aging, medications, problems with eyelid function, disease, some types of surgery, environmental factors, and allergies. Many Older People Have Dry Eye Elderly people often have dryness of the eyes, but dry eye can occur at any age. Nearly five million Americans 50 years of age and older are estimated to have dry eye. Of these, more than three million are women and more than one and a half million are men. Tens of millions more have less severe symptoms. Dry eye is more common after menopause. Women who experience menopause prematurely are more likely to have eye surface damage from dry eye.  Medications Dry eye can be a side effect of some medications, including antihistamines, nasal decongestants, tranquilizers, certain blood pressure medicines, Parkinson's medications, and some anti-depressants. Women who are on hormone replacement therapy may experience dry eye symptoms. Eyelid Function Eyelid function can also be a factor in dry eye. Diseases that affect the eyelid, such as meibomian gland dysfunction, can also cause dry eye. Dry eye may also occur from exposure keratitis, in which the eyelids do not close properly during normal blinking or sleep. Skin diseases on or around the eyelids can result in dry eye. Infrequent blinking associated with staring at computer or video screens also may lead to dry eye symptoms. Systemic Diseases Certain diseases can cause dry eye. Chronic inflammation of the conjunctiva, or the lacrimal glands, can cause dry eye. Immune system disorders such as Sjgren's syndrome, systemic lupus erythematosus, and rheumatoid arthritis also can cause dry eye. Sjgren's syndrome leads to inflammation and dryness of the mouth, eyes, and other mucous membranes. Thyroid disease, which can sometimes cause the eye to bulge out, can also lead to dry eye by increasing the surface area of the eye exposed to the environment. Surgeries Some types of surgery can lead to dry eye. For example, dry eye can develop after the refractive surgery known as LASIK. These symptoms generally last three to six months, but may last longer in some cases. Dry eye can also occur as a result of cosmetic surgery that widens the eyelids too much and increases the surface area of the eye exposed to the environment.\n",
      "Systemic Diseases Certain diseases can cause dry eye. Chronic inflammation of the conjunctiva, or the lacrimal glands, can cause dry eye. Immune system disorders such as Sjgren's syndrome, systemic lupus erythematosus, and rheumatoid arthritis also can cause dry eye. Sjgren's syndrome leads to inflammation and dryness of the mouth, eyes, and other mucous membranes. Thyroid disease, which can sometimes cause the eye to bulge out, can also lead to dry eye by increasing the surface area of the eye exposed to the environment. Surgeries Some types of surgery can lead to dry eye. For example, dry eye can develop after the refractive surgery known as LASIK. These symptoms generally last three to six months, but may last longer in some cases. Dry eye can also occur as a result of cosmetic surgery that widens the eyelids too much and increases the surface area of the eye exposed to the environment. Environment Environmental exposure to irritants such as chemical fumes and tobacco smoke, or drafts from air conditioning or heating can cause dry eye. Wearing contact lenses over a long period of time can lead to a loss of feeling in the cornea and this can cause dry eye. Allergies also can be associated with dry eye.\n"
     ]
    }
   ],
   "source": [
    "response, context = chat(\"What is Dry Eye ?\", model)\n",
    "print(\"\\n\".join(response['generation']).split('.'))\n",
    "print('')\n",
    "print(\"\\n\".join([x for x in context]))"
   ]
  },
  {
   "cell_type": "markdown",
   "id": "c72557d7",
   "metadata": {},
   "source": [
    "> _Disclaimer_\n",
    "\n",
    "Latency is a topic that was not addressed at all:\n",
    "* for this test the embedding model was running at full precision (fp32) in a CPU\n",
    "* the machine that hosts the AWS OpenSearch collection is the smallest one can get (t3.small)\n",
    "\n",
    "One could think of hosting the embedding model in a Sagemaker Endpoint or also in a Bedrock one, reducing precision if needed and increase the machine size behind OpenSearch"
   ]
  },
  {
   "cell_type": "markdown",
   "id": "f1c8f755",
   "metadata": {},
   "source": [
    "---"
   ]
  },
  {
   "cell_type": "markdown",
   "id": "0bc63b75",
   "metadata": {},
   "source": [
    "### Evaluating the generation\n",
    "\n",
    "One could evaluate this generation in different ways:\n",
    "* reference free: for example with an LLM-as-a-judge to analize the helpfulness, toxicity and faithfulness from the answer\n",
    "* reference based: metrics that leverage the fact that there is a golden dataset with labels for some answers\n",
    "\n",
    "\n",
    "In my case, just as a final validation I will utilize the dataset that was provided as part of the assignment, I will follow a simple approach:\n",
    "\n",
    "1. select a sample question\n",
    "2. generate the response to that question\n",
    "3. compare the generated response to the golden answer by utilizing BERTScore"
   ]
  },
  {
   "cell_type": "code",
   "execution_count": null,
   "id": "0dd49dfe",
   "metadata": {},
   "outputs": [],
   "source": [
    "!pip install -q evaluate==0.4.5 bert_score"
   ]
  },
  {
   "cell_type": "code",
   "execution_count": 37,
   "id": "56c39859",
   "metadata": {},
   "outputs": [],
   "source": [
    "import pandas as pd\n",
    "df = pd.read_csv('data_processing/data/intern_screening_dataset.csv')"
   ]
  },
  {
   "cell_type": "code",
   "execution_count": 70,
   "id": "586a1026",
   "metadata": {},
   "outputs": [
    {
     "data": {
      "text/plain": [
       "['Is Juvenile Huntington disease inherited ?',\n",
       " 'What are the treatments for nemaline myopathy ?',\n",
       " 'What is (are) Hailey-Hailey disease ?',\n",
       " 'Is transthyretin amyloidosis inherited ?',\n",
       " 'How many people are affected by Balance Problems ?',\n",
       " 'What is (are) Heart Diseases ?',\n",
       " 'What is (are) Hyperkalemic periodic paralysis ?',\n",
       " 'How to diagnose Prothrombin thrombophilia ?',\n",
       " 'What are the genetic changes related to multiple system atrophy ?',\n",
       " 'What are the symptoms of Spinocerebellar ataxia 21 ?',\n",
       " 'What is (are) Medicare and Continuing Care ?',\n",
       " 'What is (are) Peripheral Artery Disease ?',\n",
       " 'What is (are) metatropic dysplasia ?',\n",
       " 'What to do for Urinary Incontinence in Children ?',\n",
       " 'What is (are) Autoimmune myocarditis ?',\n",
       " 'Is Fragile X syndrome inherited ?',\n",
       " 'What are the symptoms of Lambdoid synostosis ?',\n",
       " 'What are the symptoms of Osteogenesis imperfecta ?',\n",
       " 'What is (are) Hermansky-Pudlak syndrome ?',\n",
       " 'What is (are) Short Bowel Syndrome ?',\n",
       " 'What is (are) Gum (Periodontal) Disease ?',\n",
       " 'What is (are) Prevent diabetes problems: Keep your kidneys healthy ?',\n",
       " 'What are the symptoms of Diabetes ?',\n",
       " 'What are the treatments for Rett syndrome ?',\n",
       " 'What are the treatments for Testicular Cancer ?',\n",
       " 'What are the genetic changes related to Aicardi-Goutieres syndrome ?',\n",
       " 'Is Alpers-Huttenlocher syndrome inherited ?',\n",
       " 'What is (are) Hepatitis C ?',\n",
       " 'What is the outlook for Adult Central Nervous System Tumors ?',\n",
       " 'What are the symptoms of Transcobalamin 1 deficiency ?',\n",
       " 'What causes Lung Cancer ?',\n",
       " 'What is (are) Paroxysmal nocturnal hemoglobinuria ?',\n",
       " 'Is Moebius syndrome inherited ?',\n",
       " 'What is (are) Ear Disorders ?',\n",
       " 'Is cerebral autosomal dominant arteriopathy with subcortical infarcts and leukoencephalopathy inherited ?',\n",
       " 'What causes Hemophilia ?',\n",
       " 'What causes Congenital Heart Defects ?',\n",
       " 'Who is at risk for Microscopic Colitis: Collagenous Colitis and Lymphocytic Colitis? ?',\n",
       " 'What are the symptoms of Rhizomelic syndrome ?',\n",
       " 'How many people are affected by Holt-Oram syndrome ?',\n",
       " 'What are the treatments for Craniometaphyseal dysplasia, autosomal dominant ?',\n",
       " 'What are the treatments for SAPHO syndrome ?',\n",
       " 'What is (are) malonyl-CoA decarboxylase deficiency ?',\n",
       " 'What is (are) Pulmonary Hypertension ?',\n",
       " 'What is (are) Pemphigus vulgaris ?',\n",
       " 'What are the treatments for phosphoglycerate dehydrogenase deficiency ?',\n",
       " 'What are the symptoms of Huntington disease ?',\n",
       " 'What causes Arts syndrome ?',\n",
       " 'what research (or clinical trials) is being done for Thymoma and Thymic Carcinoma ?',\n",
       " 'Is McCune Albright syndrome inherited ?']"
      ]
     },
     "execution_count": 70,
     "metadata": {},
     "output_type": "execute_result"
    }
   ],
   "source": [
    "subset = df[['question','answer']].sample(50, random_state=CONFIG['RANDOM_SEED'])\n",
    "sample_questions = subset.question.tolist()\n",
    "sample_answers = subset.answer.tolist()\n",
    "sample_questions"
   ]
  },
  {
   "cell_type": "code",
   "execution_count": 71,
   "id": "154edb8d",
   "metadata": {},
   "outputs": [],
   "source": [
    "rag_based_answers = []\n",
    "\n",
    "for question in sample_questions:\n",
    "    response, context = chat(question, model)\n",
    "    rag_based_answers.append((response,context))"
   ]
  },
  {
   "cell_type": "code",
   "execution_count": 75,
   "id": "a67bcbbb",
   "metadata": {},
   "outputs": [
    {
     "data": {
      "text/plain": [
       "[' Yes, Juvenile Huntington disease is inherited. It is inherited in an autosomal dominant manner, meaning one copy of the altered gene in each cell is sufficient to cause the disorder. An affected person usually inherits the altered gene from one affected parent.',\n",
       " ' I don’t have enough information to answer those questions.',\n",
       " ' Hailey-Hailey disease is a hereditary blistering skin disease.',\n",
       " ' I don’t have enough information to answer.',\n",
       " ' According to the Centers for Disease Control and Prevention, an estimated 33.4 million American adults, which is about 14.8 percent, had a balance or dizziness problem during the past year.',\n",
       " ' Cardiomyopathy refers to diseases of the heart muscle. These diseases have many causes, signs and symptoms, and treatments. One type of cardiomyopathy is Familial hypertrophic cardiomyopathy, which is a heart condition characterized by thickening of the heart muscle.',\n",
       " ' Hyperkalemic periodic paralysis is a condition that causes episodes of extreme muscle weakness or paralysis. It usually begins in infancy or early childhood and involves temporary inability to move muscles in the arms and legs. The episodes can be triggered by various factors such as rest after exercise, potassium-rich foods, stress, fatigue, and others. During these episodes, most people experience increased levels of potassium in their blood, but in some cases, the attacks occur with normal blood potassium levels.',\n",
       " ' I don’t have enough information to answer those questions.',\n",
       " ' I don’t have enough information to answer those questions.',\n",
       " ' I don’t have enough information to answer those questions.',\n",
       " ' I don’t have enough information to answer about \"Continuing Care\". However, I can tell you that Medicare is the U.S. government\\'s health insurance program for people age 65 or older, as well as some people under 65 with certain disabilities or conditions. It has four parts: Part A (hospital insurance), Part B (medical services), Part C (Medicare Advantage), and Part D (prescription drug coverage).',\n",
       " \" Peripheral Artery Disease (P.A.D.) refers to the narrowing or blockage of the blood vessels in the legs. This condition can occur in people with diabetes and may cause symptoms such as pain, numbness, aching, or heaviness in the leg muscles when walking or climbing stairs, which is known as intermittent claudication. Even if there are no signs or symptoms, it's recommended to get checked for P.A.D. if you're aged 70 or older, have a history of smoking or diabetes, or are younger than 70 with diabetes and one or more risk factors for atherosclerosis. Other signs and symptoms of P.A.D. include weak or absent pulses in the legs or feet, slow-healing sores or wounds, and poor nail or hair growth on the legs.\",\n",
       " ' I don’t have enough information to answer those questions.',\n",
       " \" For urinary incontinence (UI) in children, most cases fade away naturally as the child grows and develops, and does not require treatment. However, when treatment is needed, options include:\\n\\n1. **Bladder Training and Related Strategies**: This involves exercises to strengthen the bladder muscles, gradually increasing the time between trips to the bathroom, and techniques such as urinating on a schedule, avoiding caffeine, and following healthy urination habits.\\n\\n2. **Moisture Alarms**: These devices can wake children when they begin to urinate at night, helping them to stop the urine stream and go to the bathroom.\\n\\n3. **Medications**: Certain medications like desmopressin (DDAVP) and imipramine (Tofranil) can help treat nighttime UI by increasing ADH levels or through other mechanisms.\\n\\nIt's also important to ensure children drink enough fluids throughout the day and avoid drinking a lot close to bedtime. Waking children up to urinate at night can also help decrease nighttime UI. A healthcare provider can give guidance on the best approach for each child.\",\n",
       " ' Autoimmune myocarditis is an autoimmune disease that affects the heart, characterized by inflammation of the heart muscle (myocardium). It occurs when the immune system mistakenly attacks healthy tissue in the heart. The exact underlying cause is currently unknown. Some people with autoimmune myocarditis may not have noticeable symptoms, while others may experience chest pain, abnormal heartbeat, shortness of breath, fatigue, and other signs of infection, as well as leg swelling. Treatment is based on the signs and symptoms present in each person and may include medications that suppress the immune system.',\n",
       " ' Yes, Fragile X syndrome is inherited in an X-linked dominant pattern. This means that the mutated gene that causes the disorder is located on the X chromosome and a mutation in one of the two copies of the gene in each cell is sufficient to cause the disorder.',\n",
       " ' I don’t have enough information to answer those questions.',\n",
       " ' I don’t have enough information to answer those questions.',\n",
       " ' I don’t have enough information to answer those questions.',\n",
       " ' Short Bowel Syndrome is a condition where the body lacks a sufficient amount of small intestine, which can lead to severe diarrhea, dehydration, malnutrition, and weight loss. This can occur due to surgery to remove a portion of the small intestine, or it can be present at birth due to an abnormally short small intestine or missing parts of the bowel. It can also be caused by various diseases, injuries, or birth defects that damage the small intestine.',\n",
       " ' Gum (periodontal) disease is an infection of the gums and surrounding tissues that hold teeth in place. It has two forms: gingivitis, a mild and reversible form, and periodontitis, a more severe form that can damage the soft tissues and bone that support teeth.',\n",
       " ' To keep your kidneys healthy and prevent diabetes problems, you should control your blood glucose through healthy eating with moderate protein intake, physical activity, and medications. Additionally, keeping your blood pressure at a level below 140/90 mm Hg, if possible, is also important. Using blood pressure medications called ACE inhibitors and ARBs can be effective at minimizing kidney damage. Regular screening for kidney disease is also recommended, with the two key markers being estimated glomerular filtration rate (eGFR) and urine albumin. Intensive management of blood glucose has also shown promise in keeping kidneys healthy, especially for those in the early stages of chronic kidney disease (CKD).',\n",
       " ' The common symptoms of diabetes are: \\n\\n1. Being very thirsty \\n2. Frequent urination \\n3. Feeling very hungry or tired \\n4. Losing weight without trying \\n5. Having sores that heal slowly \\n6. Having dry, itchy skin \\n7. Loss of feeling or tingling in the feet \\n8. Having blurry eyesight.',\n",
       " ' The treatment for Rett syndrome is symptomatic, focusing on the management of symptoms, and supportive. This may include medication for breathing irregularities and motor difficulties, as well as antiepileptic drugs to control seizures. Additionally, therapies such as occupational therapy, physiotherapy, and hydrotherapy may help prolong mobility. Some individuals may also require special equipment and aids, like braces, splints, and nutritional programs, to support their needs.',\n",
       " \" I don't have enough information to answer those questions.\",\n",
       " ' The mutations of four different genes are associated with Aicardi-Goutieres syndrome. One of these is the MECP2 gene, which has an X-linked pattern of inheritance. This means the mutated gene is located on the X chromosome. However, the specific details about the other three genes are not provided in the given context.',\n",
       " ' I don’t have enough information to answer.',\n",
       " \" Hepatitis C is a virus, or infection, that causes liver disease and inflammation of the liver. It can be either a short-term infection, known as acute hepatitis C, which can last up to 6 months, or a long-lasting infection, known as chronic hepatitis C, which occurs when the body can't get rid of the virus.\",\n",
       " ' I don’t have enough information to answer those questions.',\n",
       " ' I don’t have enough information to answer those questions.',\n",
       " ' I don’t have enough information to answer those questions.',\n",
       " ' Paroxysmal nocturnal hemoglobinuria (PNH) is an acquired disorder that leads to the premature death and impaired production of blood cells, including red blood cells, white blood cells, and platelets. It is characterized by recurring episodes of symptoms due to the premature destruction of red blood cells (hemolysis), which can be triggered by stresses on the body such as infections or physical exertion.',\n",
       " ' I don’t have enough information to answer those questions.',\n",
       " ' Ringing in the ears (tinnitus) is one of the ear disorders associated with episodic ataxia.',\n",
       " ' I don’t have enough information to answer those questions.',\n",
       " ' Hemophilia is usually inherited, and it occurs when there is a mutation in the genes that are responsible for producing clotting factors. This mutation leads to little or no production of the clotting factor, which is a protein needed for normal blood clotting.',\n",
       " \" Doctors often don't know why congenital heart defects occur. However, heredity may play a role in some heart defects, and smoking during pregnancy has been linked to several congenital heart defects, including septal defects. Additionally, children who have genetic disorders, such as Down syndrome, often have congenital heart defects. Researchers continue to search for the causes of congenital heart defects.\",\n",
       " ' I don’t have enough information to answer.',\n",
       " ' I don’t have enough information to answer those questions.',\n",
       " ' I don’t have enough information to answer.',\n",
       " ' I don’t have enough information to answer those questions.',\n",
       " ' I don’t have enough information to answer those questions.',\n",
       " ' I don’t have enough information to answer those questions.',\n",
       " ' Pulmonary hypertension (PH) is increased pressure in the pulmonary arteries. These arteries carry blood from your heart to your lungs to pick up oxygen. PH begins with inflammation and changes in the cells that line your pulmonary arteries, and can be caused by various factors, including the tightening or stiffening of the artery walls, blood clots, and other diseases or conditions. It is divided into five groups based on its causes, and can lead to symptoms such as shortness of breath, tiredness, chest pain, and a racing heartbeat.',\n",
       " ' I don’t have enough information to answer.',\n",
       " ' I don’t have enough information to answer those questions.',\n",
       " ' I don’t have enough information to answer those questions.',\n",
       " ' Arts syndrome is caused by mutations in the PRPS1 gene. These mutations affect the production of the enzyme phosphoribosyl pyrophosphate synthetase 1, leading to impaired production of purines and pyrimidines, which are essential for DNA, RNA, and energy sources in the cell. This impairment may particularly affect tissues that require a lot of energy, such as the nervous system and immune system, resulting in the characteristic neurological problems and immune dysfunction of Arts syndrome.',\n",
       " ' I don’t have enough information to answer those questions.',\n",
       " \" No, McCune Albright syndrome is not inherited. It is caused by a random change (mutation) in the GNAS gene that occurs very early in development, resulting in a phenomenon called mosaicism. This mutation is not passed on to any of the affected individual's children.\"]"
      ]
     },
     "execution_count": 75,
     "metadata": {},
     "output_type": "execute_result"
    }
   ],
   "source": [
    "predictions = [x[0]['generation'] for x in rag_based_answers]\n",
    "predictions"
   ]
  },
  {
   "cell_type": "code",
   "execution_count": 76,
   "id": "2e708c98",
   "metadata": {},
   "outputs": [
    {
     "name": "stderr",
     "output_type": "stream",
     "text": [
      "Some weights of RobertaModel were not initialized from the model checkpoint at roberta-large and are newly initialized: ['pooler.dense.bias', 'pooler.dense.weight']\n",
      "You should probably TRAIN this model on a down-stream task to be able to use it for predictions and inference.\n"
     ]
    }
   ],
   "source": [
    "from evaluate import load\n",
    "bertscore = load(\"bertscore\")\n",
    "results = bertscore.compute(predictions=predictions, references=sample_answers, lang=\"en\")"
   ]
  },
  {
   "cell_type": "code",
   "execution_count": 83,
   "id": "ca28964f",
   "metadata": {},
   "outputs": [
    {
     "data": {
      "text/plain": [
       "(np.float64(0.8655884373188019),\n",
       " np.float64(0.798524374961853),\n",
       " np.float64(0.8301306283473968))"
      ]
     },
     "execution_count": 83,
     "metadata": {},
     "output_type": "execute_result"
    }
   ],
   "source": [
    "import numpy as np\n",
    "np.mean(results['precision']), np.mean(results['recall']), np.mean(results['f1'])"
   ]
  },
  {
   "cell_type": "markdown",
   "id": "3685589c",
   "metadata": {},
   "source": [
    "We can see that the model is getting around 86% in precision, 80% in recall and 83% in F1 score"
   ]
  },
  {
   "cell_type": "markdown",
   "id": "d3d564e7",
   "metadata": {},
   "source": [
    "## Compare RAG vs ungrounded model"
   ]
  },
  {
   "cell_type": "markdown",
   "id": "31cb5fbc",
   "metadata": {},
   "source": [
    "Now let's compare just a few samples of both the RAG and the generative model without context"
   ]
  },
  {
   "cell_type": "code",
   "execution_count": null,
   "id": "83a2b116",
   "metadata": {},
   "outputs": [],
   "source": [
    "sample_questions = [\n",
    "    \"What is high blood pressure?\",\n",
    "    \"How to know if I have prostate cancer?\",\n",
    "    \"Does Alzheimer have a cure?\",\n",
    "    \"My doctor told me my cousing might have diabetic retinopathy, I'm worrier, can you tell me what is that?\",\n",
    "    \"If I take a paracetamol, will my hair grow blonde?\"\n",
    "]"
   ]
  },
  {
   "cell_type": "code",
   "execution_count": 74,
   "id": "71de17e0",
   "metadata": {},
   "outputs": [],
   "source": [
    "rag_based_answers = []\n",
    "ungrounded_answers = []\n",
    "\n",
    "for question in sample_questions:\n",
    "    response, _ = chat(question, model)\n",
    "    rag_based_answers.append(response)\n",
    "\n",
    "    response, _ = chat(question)\n",
    "    ungrounded_answers.append(response)"
   ]
  },
  {
   "cell_type": "markdown",
   "id": "9b643c1f",
   "metadata": {},
   "source": [
    "#### Output size difference"
   ]
  },
  {
   "cell_type": "code",
   "execution_count": null,
   "id": "7c28d7c2",
   "metadata": {},
   "outputs": [],
   "source": [
    "!pip install -q matplotlib==1.3.0"
   ]
  },
  {
   "cell_type": "code",
   "execution_count": 78,
   "id": "a1d53f36",
   "metadata": {},
   "outputs": [
    {
     "data": {
      "image/png": "[encoded data removed]",
      "text/plain": [
       "<Figure size 1800x400 with 1 Axes>"
      ]
     },
     "metadata": {},
     "output_type": "display_data"
    }
   ],
   "source": [
    "ungrounded_size = [ans['generation_token_count'] for ans in ungrounded_answers]\n",
    "rag_size = [ans['generation_token_count'] for ans in rag_based_answers]\n",
    "\n",
    "import matplotlib.pyplot as plt\n",
    "plt.figure(figsize=(18,4))\n",
    "plt.bar(x=range(1,6), height=ungrounded_size, label='ungrounded', color='darkred')\n",
    "plt.bar(x=range(1,6), height=rag_size, label='RAG', color='green')\n",
    "plt.legend()\n",
    "plt.title('Output tokens count ungrounded vs RAG approach');"
   ]
  },
  {
   "cell_type": "markdown",
   "id": "de5967ff",
   "metadata": {},
   "source": [
    "We can see that the ungrounded LLM tends to be much more verbose, while the RAG-based model produces more concise and focused answers grounded in the retrieved context."
   ]
  },
  {
   "cell_type": "markdown",
   "id": "f59c86ce",
   "metadata": {},
   "source": [
    "#### Question on no available information"
   ]
  },
  {
   "cell_type": "code",
   "execution_count": 82,
   "id": "94e7332c",
   "metadata": {},
   "outputs": [
    {
     "name": "stdout",
     "output_type": "stream",
     "text": [
      "I'm happy to help you with your question\n",
      " However, I must inform you that taking paracetamol will not affect the color of your hair\n",
      " Paracetamol is a medication used to relieve pain and reduce fever, and it does not have any properties that would influence hair color\n",
      "\n",
      "\n",
      "Hair color is determined by the production of melanin in the hair follicle, and it's influenced by genetics, not by medications like paracetamol\n",
      " If you're interested in changing your hair color, you may want to consider consulting a hair care professional or using hair dye products specifically designed for that purpose\n",
      "\n",
      "\n",
      "Please let me know if you have any other questions or concerns!\n"
     ]
    },
    {
     "data": {
      "text/plain": [
       "(None, 'I don’t have enough information to answer those questions.')"
      ]
     },
     "execution_count": 82,
     "metadata": {},
     "output_type": "execute_result"
    }
   ],
   "source": [
    "print(\"\\n\".join(u_ans[-1].split('.'))), rag_ans[-1]"
   ]
  },
  {
   "cell_type": "markdown",
   "id": "98a1d18b",
   "metadata": {},
   "source": [
    "When the model isn't grounded, it's much more prone to generating hallucinated or inaccurate information, making it harder to control and less reliable."
   ]
  }
 ],
 "metadata": {
  "kernelspec": {
   "display_name": ".venv",
   "language": "python",
   "name": "python3"
  },
  "language_info": {
   "codemirror_mode": {
    "name": "ipython",
    "version": 3
   },
   "file_extension": ".py",
   "mimetype": "text/x-python",
   "name": "python",
   "nbconvert_exporter": "python",
   "pygments_lexer": "ipython3",
   "version": "3.10.0"
  }
 },
 "nbformat": 4,
 "nbformat_minor": 5
}
